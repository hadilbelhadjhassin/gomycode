{
  "nbformat": 4,
  "nbformat_minor": 0,
  "metadata": {
    "colab": {
      "name": "Let's build create arrays.ipynb",
      "provenance": [],
      "collapsed_sections": [],
      "authorship_tag": "ABX9TyOa7VodX0N0Pbpu395tz8sc",
      "include_colab_link": true
    },
    "kernelspec": {
      "name": "python3",
      "display_name": "Python 3"
    },
    "language_info": {
      "name": "python"
    }
  },
  "cells": [
    {
      "cell_type": "markdown",
      "metadata": {
        "id": "view-in-github",
        "colab_type": "text"
      },
      "source": [
        "<a href=\"https://colab.research.google.com/github/hadilbelhadjhassin/gomycode/blob/main/Let's_build_create_arrays.ipynb\" target=\"_parent\"><img src=\"https://colab.research.google.com/assets/colab-badge.svg\" alt=\"Open In Colab\"/></a>"
      ]
    },
    {
      "cell_type": "code",
      "metadata": {
        "id": "6yv2zXHwM0qk",
        "colab": {
          "base_uri": "https://localhost:8080/"
        },
        "outputId": "98d229b0-4a90-49e0-86cd-02398d8a49b6"
      },
      "source": [
        "#question 1\n",
        "import numpy as np\n",
        "a=np.array([(2, 2, 3), (4, 5,6)])\n",
        "print(a)\n",
        "print(a.tolist())\n"
      ],
      "execution_count": null,
      "outputs": [
        {
          "output_type": "stream",
          "name": "stdout",
          "text": [
            "[[2 2 3]\n",
            " [4 5 6]]\n",
            "[[2, 2, 3], [4, 5, 6]]\n"
          ]
        }
      ]
    },
    {
      "cell_type": "code",
      "metadata": {
        "colab": {
          "base_uri": "https://localhost:8080/"
        },
        "id": "wFTPBxdzRU2x",
        "outputId": "ffcf7597-6386-4339-9f9f-48cce3b14bed"
      },
      "source": [
        "#question 2\n",
        "#method 1\n",
        "a = np.array([(1, 2,5), (3, 4,8), (5,6,10)])\n",
        "b=0\n",
        "for i in range(len(a)):\n",
        "  b+=a[i,i]\n",
        "print(b)"
      ],
      "execution_count": null,
      "outputs": [
        {
          "output_type": "stream",
          "name": "stdout",
          "text": [
            "15\n"
          ]
        }
      ]
    },
    {
      "cell_type": "code",
      "metadata": {
        "colab": {
          "base_uri": "https://localhost:8080/"
        },
        "id": "ubrWjhvDOH0Q",
        "outputId": "43001817-a4e9-48e8-c44a-dccf17fdc5a5"
      },
      "source": [
        "#question 2\n",
        "#method 2\n",
        "c=np.trace(a)\n",
        "print(c)"
      ],
      "execution_count": null,
      "outputs": [
        {
          "output_type": "stream",
          "name": "stdout",
          "text": [
            "15\n"
          ]
        }
      ]
    },
    {
      "cell_type": "code",
      "metadata": {
        "colab": {
          "base_uri": "https://localhost:8080/"
        },
        "id": "-spe5csOWwFE",
        "outputId": "7f3059b1-7bb2-4fe3-9112-b1e2d897ec5a"
      },
      "source": [
        "\n",
        "#question 3\n",
        "import numpy as np\n",
        "\n",
        "a = np.array([(1, 2,5), (3, 4,8), (5,6,10)])\n",
        "g=int(input())\n",
        "b=a[a>g]\n",
        "for i in b:\n",
        "  print(i , end =' ')\n",
        "print(\"higher than \",g) \n",
        "\n",
        "\n",
        "\n"
      ],
      "execution_count": null,
      "outputs": [
        {
          "output_type": "stream",
          "name": "stdout",
          "text": [
            "5\n",
            "8 6 10 higher than  5\n"
          ]
        }
      ]
    },
    {
      "cell_type": "code",
      "metadata": {
        "colab": {
          "base_uri": "https://localhost:8080/"
        },
        "id": "8JJhiy8VenKU",
        "outputId": "898477d1-3420-4ae3-b9c0-3b0f3734c646"
      },
      "source": [
        "#question 4\n",
        "\n",
        "m = np.arange(6).reshape(2,3)\n",
        "n=  np.arange(0,12,2).reshape(2,3)\n",
        "print(m)\n",
        "print(n)\n",
        "C=m+n\n",
        "print(C)"
      ],
      "execution_count": null,
      "outputs": [
        {
          "output_type": "stream",
          "name": "stdout",
          "text": [
            "[[0 1 2]\n",
            " [3 4 5]]\n",
            "[[ 0  2  4]\n",
            " [ 6  8 10]]\n",
            "[[ 0  3  6]\n",
            " [ 9 12 15]]\n"
          ]
        }
      ]
    },
    {
      "cell_type": "code",
      "metadata": {
        "id": "CJwH8H8rQnNw",
        "colab": {
          "base_uri": "https://localhost:8080/"
        },
        "outputId": "b6609e73-af3a-47a3-f9f0-4021e26a0c78"
      },
      "source": [
        "#question 5\n",
        "a = np.array([(1, 2,5), (3, 4,8), (5,6,10)])\n",
        "Y = a - a.mean(axis=1, keepdims=True)\n",
        "print(Y)"
      ],
      "execution_count": null,
      "outputs": [
        {
          "output_type": "stream",
          "name": "stdout",
          "text": [
            "[[-1.66666667 -0.66666667  2.33333333]\n",
            " [-2.         -1.          3.        ]\n",
            " [-2.         -1.          3.        ]]\n"
          ]
        }
      ]
    }
  ]
}