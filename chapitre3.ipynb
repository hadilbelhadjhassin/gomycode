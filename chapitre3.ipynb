{
  "nbformat": 4,
  "nbformat_minor": 0,
  "metadata": {
    "colab": {
      "name": "chapitre3.ipynb",
      "provenance": [],
      "collapsed_sections": [],
      "authorship_tag": "ABX9TyOkl9dAjqJTqefuKpfQrH45",
      "include_colab_link": true
    },
    "kernelspec": {
      "name": "python3",
      "display_name": "Python 3"
    },
    "language_info": {
      "name": "python"
    }
  },
  "cells": [
    {
      "cell_type": "markdown",
      "metadata": {
        "id": "view-in-github",
        "colab_type": "text"
      },
      "source": [
        "<a href=\"https://colab.research.google.com/github/hadilbelhadjhassin/gomycode/blob/main/chapitre3.ipynb\" target=\"_parent\"><img src=\"https://colab.research.google.com/assets/colab-badge.svg\" alt=\"Open In Colab\"/></a>"
      ]
    },
    {
      "cell_type": "code",
      "metadata": {
        "id": "X7iuoBDsTAw-",
        "colab": {
          "base_uri": "https://localhost:8080/"
        },
        "outputId": "4441310e-4ba8-41eb-9763-7337455e68c2"
      },
      "source": [
        "#question 1\n",
        "l=[]\n",
        "n= int(input(\"enter th length of the list\"))\n",
        "for i in range(n):\n",
        "  l.append(int(input(\"\")))\n",
        "m=1\n",
        "for i in l:\n",
        "  m=m*i\n",
        "print(\"the product of the items in the list:\", m)"
      ],
      "execution_count": 5,
      "outputs": [
        {
          "output_type": "stream",
          "name": "stdout",
          "text": [
            "enter th length of the list4\n",
            "1\n",
            "2\n",
            "3\n",
            "4\n",
            "the product of the items in the list: 24\n"
          ]
        }
      ]
    },
    {
      "cell_type": "code",
      "metadata": {
        "id": "JUuJuTF0VVQf",
        "colab": {
          "base_uri": "https://localhost:8080/"
        },
        "outputId": "7e851c2b-ebaf-44a0-cfed-3b21c5168875"
      },
      "source": [
        "#question 2\n",
        "list1=[(2, 5), (1, 2), (4, 4), (2, 3), (2, 1)]\n",
        "\n",
        "\n",
        "\n",
        "list1.sort(key=lambda x: x[1])\n",
        "print(list1)"
      ],
      "execution_count": 18,
      "outputs": [
        {
          "output_type": "stream",
          "name": "stdout",
          "text": [
            "[(2, 1), (1, 2), (2, 3), (4, 4), (2, 5)]\n"
          ]
        }
      ]
    },
    {
      "cell_type": "code",
      "metadata": {
        "colab": {
          "base_uri": "https://localhost:8080/"
        },
        "id": "Sf9KvvHM13g5",
        "outputId": "27a33974-449e-4850-e0cb-d2500db45f57"
      },
      "source": [
        "#question 3\n",
        "\n",
        "dict= {'a': 100, 'b': 200, 'c':300}\n",
        "dict1={'a': 300, 'b': 200, 'd':400}\n",
        "\n",
        "\n",
        "\n",
        " \n",
        " \n",
        "d3 = {}\n",
        "\n",
        "for i, j in dict.items():\n",
        "\n",
        "    for x, y in dict1.items():\n",
        "\n",
        "        if i == x:\n",
        "\n",
        "            d3[i]=(j+y)\n",
        "        elif (i!=x):\n",
        "          d3[i]=j\n",
        "          \n",
        "for x, y in dict1.items():\n",
        "\n",
        "    for i, j in dict.items():\n",
        "\n",
        "        if x != i:\n",
        "\n",
        "            d3[x]=y\n",
        "         \n",
        "print(\"d3=\" ,d3)\n",
        "\n",
        "\n",
        "  \n",
        "      \n",
        "\n"
      ],
      "execution_count": 6,
      "outputs": [
        {
          "output_type": "stream",
          "name": "stdout",
          "text": [
            "d3= {'a': 300, 'b': 200, 'c': 300, 'd': 400}\n"
          ]
        }
      ]
    },
    {
      "cell_type": "code",
      "metadata": {
        "colab": {
          "base_uri": "https://localhost:8080/"
        },
        "id": "JyX80OuG4mC4",
        "outputId": "8ce01ace-9be1-4ad3-8d76-99714f69e497"
      },
      "source": [
        "#question 4\n",
        "n=int(input(\"enter the length of dictionnary\"))\n",
        "d={}\n",
        "\n",
        "for i in range (1,n+1):\n",
        "  d[i]=i*i\n",
        "print(d)"
      ],
      "execution_count": 7,
      "outputs": [
        {
          "output_type": "stream",
          "name": "stdout",
          "text": [
            "enter the length of dictionnary4\n",
            "{1: 1, 2: 4, 3: 9, 4: 16}\n"
          ]
        }
      ]
    },
    {
      "cell_type": "code",
      "metadata": {
        "colab": {
          "base_uri": "https://localhost:8080/"
        },
        "id": "Gbp5Xx1j6OFt",
        "outputId": "ae34cfa1-6a56-4884-aaa1-82867b2f93d9"
      },
      "source": [
        "#question 5\n",
        "liste= [('item1', '12.20'), ('item2', '15.10'), ('item3', '24.5')]\n",
        "\n",
        "liste.sort(reverse=True)\n",
        "print(liste)"
      ],
      "execution_count": null,
      "outputs": [
        {
          "output_type": "stream",
          "name": "stdout",
          "text": [
            "[('item3', '24.5'), ('item2', '15.10'), ('item1', '12.20')]\n"
          ]
        }
      ]
    }
  ]
}