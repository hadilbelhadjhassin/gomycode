{
  "nbformat": 4,
  "nbformat_minor": 0,
  "metadata": {
    "colab": {
      "name": "class.ipynb",
      "provenance": [],
      "authorship_tag": "ABX9TyMHCyOHwwu2OWC363VEDzus",
      "include_colab_link": true
    },
    "kernelspec": {
      "name": "python3",
      "display_name": "Python 3"
    },
    "language_info": {
      "name": "python"
    }
  },
  "cells": [
    {
      "cell_type": "markdown",
      "metadata": {
        "id": "view-in-github",
        "colab_type": "text"
      },
      "source": [
        "<a href=\"https://colab.research.google.com/github/hadilbelhadjhassin/gomycode/blob/main/class.ipynb\" target=\"_parent\"><img src=\"https://colab.research.google.com/assets/colab-badge.svg\" alt=\"Open In Colab\"/></a>"
      ]
    },
    {
      "cell_type": "code",
      "metadata": {
        "colab": {
          "base_uri": "https://localhost:8080/"
        },
        "id": "NGDFuJsS5eDb",
        "outputId": "ed093a59-3e65-4c8d-e4c0-beacd4cf848b"
      },
      "source": [
        "     \n",
        "\n",
        "class Point3D():\n",
        "  def __init__(self, x, y, z):\n",
        "        self.x = x\n",
        "        self.y = y\n",
        "        self.z = z\n",
        "  def repr(self):\n",
        "        return \"(%d, %d, %d)\" % (self.x, self.y, self.z)\n",
        "        \n",
        "my_point = Point3D(1,2,3)\n",
        "\n",
        "print (my_point.repr())"
      ],
      "execution_count": 11,
      "outputs": [
        {
          "output_type": "stream",
          "name": "stdout",
          "text": [
            "(1, 2, 3)\n"
          ]
        }
      ]
    },
    {
      "cell_type": "code",
      "metadata": {
        "colab": {
          "base_uri": "https://localhost:8080/"
        },
        "id": "mPZuh_-m-1N6",
        "outputId": "b636aae6-5b99-4aca-c4a3-eb741ccba541"
      },
      "source": [
        "class Rectangle():\n",
        "  def __init__(self,w,l):\n",
        "    self.width=w\n",
        "    self.length=l\n",
        "  def area(self):\n",
        "    return self.width*self.length\n",
        "  def perimeter(self):\n",
        "    return ((self.width+self.length)*2)\n",
        "my_rectangle=Rectangle(4,5)\n",
        "print(my_rectangle.area())\n",
        "print(my_rectangle.perimeter())"
      ],
      "execution_count": 10,
      "outputs": [
        {
          "output_type": "stream",
          "name": "stdout",
          "text": [
            "20\n",
            "18\n"
          ]
        }
      ]
    },
    {
      "cell_type": "code",
      "metadata": {
        "colab": {
          "base_uri": "https://localhost:8080/"
        },
        "id": "icrMbcJ9PI-V",
        "outputId": "2ae335b0-0d37-49e4-a38d-d39e6276cd9b"
      },
      "source": [
        "\n",
        "import math\n",
        "class Circule():\n",
        "  \n",
        "   def __init__(self,xo,yo,r):\n",
        "    \n",
        "    self.xo=xo\n",
        "    \n",
        "    self.yo=yo\n",
        "    self.radius=r\n",
        "   def circulearea(self):\n",
        "    return self.radius*self.radius*math.pi\n",
        "   def circuleperimeter(self):\n",
        "    return 2*math.pi*self.radius\n",
        "   def isInside(self,xa,ya):\n",
        "    d=math.sqrt((xa-self.xo)*2+(ya-self.yo)*2)\n",
        "    if(d<=self.radius):\n",
        "      return \"the point is inside the circule\"\n",
        "    else:\n",
        "      return\"the point is oiutside the circule\"\n",
        "\n",
        "my_circule=Circule(4,1,5)\n",
        "print(my_circule.circulearea())\n",
        "print(my_circule.circuleperimeter())\n",
        "print(my_circule.isInside(2,3))\n"
      ],
      "execution_count": 35,
      "outputs": [
        {
          "output_type": "stream",
          "name": "stdout",
          "text": [
            "78.53981633974483\n",
            "31.41592653589793\n",
            "the point is inside the circule\n"
          ]
        }
      ]
    },
    {
      "cell_type": "code",
      "metadata": {
        "colab": {
          "base_uri": "https://localhost:8080/"
        },
        "id": "_yLYUN3j0pM2",
        "outputId": "7653873e-9469-4ff5-a775-78d241811963"
      },
      "source": [
        "class bank:\n",
        "  def __init__(self,b):\n",
        "    self.balance=b\n",
        "  def deposit(self,amount):\n",
        "    self.balance+=amount\n",
        "    print(self.balance) \n",
        "  def withdraw(self,amount1):\n",
        "    if (self.balance>=amount1):\n",
        "      self.balance-=amount1\n",
        "      print(self.balance)\n",
        "    else:\n",
        "     print(\"insufficient balance\")\n",
        "amount=int(input())\n",
        "amount1=int(input())\n",
        "my_bank=bank(100)\n",
        "my_bank.deposit(amount)\n",
        "my_bank.withdraw(amount1)\n",
        "\n",
        "\n",
        "\n",
        "  "
      ],
      "execution_count": 61,
      "outputs": [
        {
          "output_type": "stream",
          "name": "stdout",
          "text": [
            "10\n",
            "20\n",
            "110\n",
            "90\n"
          ]
        }
      ]
    }
  ]
}