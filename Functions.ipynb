{
  "nbformat": 4,
  "nbformat_minor": 0,
  "metadata": {
    "colab": {
      "name": "Functions.ipynb",
      "provenance": [],
      "collapsed_sections": [],
      "authorship_tag": "ABX9TyP/GLjXS5gzVKdYDNMzWFvm",
      "include_colab_link": true
    },
    "kernelspec": {
      "name": "python3",
      "display_name": "Python 3"
    },
    "language_info": {
      "name": "python"
    }
  },
  "cells": [
    {
      "cell_type": "markdown",
      "metadata": {
        "id": "view-in-github",
        "colab_type": "text"
      },
      "source": [
        "<a href=\"https://colab.research.google.com/github/hadilbelhadjhassin/gomycode/blob/main/Functions.ipynb\" target=\"_parent\"><img src=\"https://colab.research.google.com/assets/colab-badge.svg\" alt=\"Open In Colab\"/></a>"
      ]
    },
    {
      "cell_type": "code",
      "metadata": {
        "id": "08I5OMZY4pV0",
        "colab": {
          "base_uri": "https://localhost:8080/",
          "height": 86
        },
        "outputId": "41a3cd84-6bac-4d68-9dda-b76c6932260a"
      },
      "source": [
        "#question 1\n",
        "def max(a,b,c):\n",
        "\n",
        "  if (a>b and a>c):\n",
        "    return(\"the maximum of three numbers is= %d=\" %a)\n",
        "  elif (b>c and b>a):\n",
        "    return(\"the maximum of three numbers is= %d\" %b)\n",
        "  else:\n",
        "    return(\"the maximum of three numbers is= %d\"  %c)\n",
        "\n",
        "x=int(input())\n",
        "y=int(input())\n",
        "z=int(input())\n",
        "max(x,y,z)\n",
        "  "
      ],
      "execution_count": 42,
      "outputs": [
        {
          "name": "stdout",
          "output_type": "stream",
          "text": [
            "5\n",
            "6\n",
            "7\n"
          ]
        },
        {
          "output_type": "execute_result",
          "data": {
            "application/vnd.google.colaboratory.intrinsic+json": {
              "type": "string"
            },
            "text/plain": [
              "'the maximum of three numbers is= 7'"
            ]
          },
          "metadata": {},
          "execution_count": 42
        }
      ]
    },
    {
      "cell_type": "code",
      "metadata": {
        "id": "BbdxZPPMBCwl",
        "colab": {
          "base_uri": "https://localhost:8080/",
          "height": 35
        },
        "outputId": "1d6a782b-afd2-443d-bd57-478b342073f3"
      },
      "source": [
        "#question 2\n",
        "def calculation(a,b):\n",
        "  z=a-b\n",
        "  q=a+b\n",
        "  return(\"the sum is equal to %d and the substraction is squal to %d\" %(q ,z))\n",
        "calculation (4,5)"
      ],
      "execution_count": null,
      "outputs": [
        {
          "output_type": "execute_result",
          "data": {
            "application/vnd.google.colaboratory.intrinsic+json": {
              "type": "string"
            },
            "text/plain": [
              "'the sum is equal to 9 and the substraction is squal to -1'"
            ]
          },
          "metadata": {},
          "execution_count": 3
        }
      ]
    },
    {
      "cell_type": "code",
      "metadata": {
        "colab": {
          "base_uri": "https://localhost:8080/"
        },
        "id": "QFo2nySBoqlM",
        "outputId": "2eabad5e-c199-498d-b4cd-962a3903d7e2"
      },
      "source": [
        "#question 3\n",
        "def sum_of_list(l,n):\n",
        "  if n == 0:\n",
        "    return l[n];\n",
        "  return l[n] + sum_of_list(l,n-1)\n",
        "\n",
        "l = [1,3,5,2,4]\n",
        "print (\"The sum of my_list is\", sum_of_list(l,len(l)-1))\n",
        " \n",
        "\n",
        "def multiplyList(l) :\n",
        "\tresult = 1\n",
        "\tfor x in l:\n",
        "\t\tresult = result * x\n",
        "\treturn result\n",
        "\n",
        "print(\"The product of my_list is\",multiplyList(l))\n",
        "\n",
        "l1=[]\n",
        "l2=[]\n",
        "for i in range(len(list1)):\n",
        "  if i%2==0:\n",
        "    l1.append(list1[i])\n",
        "  else:\n",
        "    l2.append(list1[i])\n",
        "print(l1)\n",
        "print(l2)\n",
        "\n",
        "print(\"The sum of the numbers have even indexes \",sum_of_list(l1,len(l1)-1))\n",
        "print(\"the product of the numbers have odd indexes\",multiplyList(l2))\n",
        "\n",
        "\n",
        "   \n",
        "   \n",
        "\n",
        " \n",
        "\n",
        "\n",
        "\n",
        "\n",
        "\n"
      ],
      "execution_count": 4,
      "outputs": [
        {
          "output_type": "stream",
          "name": "stdout",
          "text": [
            "The sum of my_list is 15\n",
            "The product of my_list is 120\n",
            "[1, 5, 4]\n",
            "[3, 2]\n",
            "The sum of the numbers have even indexes  10\n",
            "the product of the numbers have odd indexes 6\n"
          ]
        }
      ]
    },
    {
      "cell_type": "code",
      "metadata": {
        "id": "WlcCjjRcBB9a",
        "colab": {
          "base_uri": "https://localhost:8080/"
        },
        "outputId": "a3144b4e-65b4-4b49-d4a7-8906d4ea02be"
      },
      "source": [
        "#question 4\n",
        "items=[n for n in input().split('-')]\n",
        "items.sort()\n",
        "print('-'.join(items))\n"
      ],
      "execution_count": 39,
      "outputs": [
        {
          "output_type": "stream",
          "name": "stdout",
          "text": [
            "green-red-yellow-black-white\n",
            "black-green-red-white-yellow\n"
          ]
        }
      ]
    },
    {
      "cell_type": "code",
      "metadata": {
        "colab": {
          "base_uri": "https://localhost:8080/"
        },
        "id": "HqCWCBBTNkvT",
        "outputId": "c821a5a5-8322-431c-e276-93087fc2d5b2"
      },
      "source": [
        "#question 5\n",
        "\n",
        "import math\n",
        "C=50\n",
        "H=30\n",
        "x = [int(x) for x in input(\"Enter three value: \").split(\",\")]\n",
        " \n",
        "x1=[]\n",
        "for i in range (len(x)):\n",
        "   Q = math.sqrt((2 * C * x[i])/H)\n",
        "   x1.append(round(Q))\n",
        "print(*x1, sep=\",\")\n",
        " \n",
        "  \n",
        "\n",
        "\n",
        "\n"
      ],
      "execution_count": 37,
      "outputs": [
        {
          "output_type": "stream",
          "name": "stdout",
          "text": [
            "Enter three value: 100,150,180\n",
            "18,22,24\n"
          ]
        }
      ]
    }
  ]
}