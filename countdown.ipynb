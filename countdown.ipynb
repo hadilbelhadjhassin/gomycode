{
  "nbformat": 4,
  "nbformat_minor": 0,
  "metadata": {
    "colab": {
      "name": "countdown.ipynb",
      "provenance": [],
      "authorship_tag": "ABX9TyPrXrGB1Fh2hkt3Z0TzypYz",
      "include_colab_link": true
    },
    "kernelspec": {
      "name": "python3",
      "display_name": "Python 3"
    },
    "language_info": {
      "name": "python"
    }
  },
  "cells": [
    {
      "cell_type": "markdown",
      "metadata": {
        "id": "view-in-github",
        "colab_type": "text"
      },
      "source": [
        "<a href=\"https://colab.research.google.com/github/hadilbelhadjhassin/gomycode/blob/main/countdown.ipynb\" target=\"_parent\"><img src=\"https://colab.research.google.com/assets/colab-badge.svg\" alt=\"Open In Colab\"/></a>"
      ]
    },
    {
      "cell_type": "code",
      "execution_count": 6,
      "metadata": {
        "id": "ROFhTJaX9C3c",
        "colab": {
          "base_uri": "https://localhost:8080/"
        },
        "outputId": "7d72ee06-ddf2-4a81-f588-e3df5f59c17f"
      },
      "outputs": [
        {
          "output_type": "stream",
          "name": "stdout",
          "text": [
            "the length of countdown in seconds120\n",
            "fire in the hole\n"
          ]
        }
      ],
      "source": [
        "import time\n",
        "t=int(input(\"the length of countdown in seconds\"))\n",
        "def countdown(t):\n",
        "  while t>0:\n",
        "    mins,secs=divmod(t,60)\n",
        "    print(\"the number of minutes is {} and the number of seconds is {}\".format(mins,secs),end=\"\\r\")\n",
        "    time.sleep(1)\n",
        "    t-=1\n",
        "  print(\"fire in the hole\")\n",
        "\n",
        "countdown(int(t))\n",
        "      \n",
        "    \n",
        "    \n"
      ]
    }
  ]
}