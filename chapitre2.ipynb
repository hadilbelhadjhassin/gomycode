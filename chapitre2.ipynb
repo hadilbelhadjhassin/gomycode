{
  "nbformat": 4,
  "nbformat_minor": 0,
  "metadata": {
    "colab": {
      "name": "chapitre2.ipynb",
      "provenance": [],
      "authorship_tag": "ABX9TyMfI2e2UaFuM29RoOifHxGp",
      "include_colab_link": true
    },
    "kernelspec": {
      "name": "python3",
      "display_name": "Python 3"
    },
    "language_info": {
      "name": "python"
    }
  },
  "cells": [
    {
      "cell_type": "markdown",
      "metadata": {
        "id": "view-in-github",
        "colab_type": "text"
      },
      "source": [
        "<a href=\"https://colab.research.google.com/github/hadilbelhadjhassin/gomycode/blob/main/chapitre2.ipynb\" target=\"_parent\"><img src=\"https://colab.research.google.com/assets/colab-badge.svg\" alt=\"Open In Colab\"/></a>"
      ]
    },
    {
      "cell_type": "code",
      "metadata": {
        "id": "QgDmB8FZU7sB",
        "colab": {
          "base_uri": "https://localhost:8080/"
        },
        "outputId": "cea96ba6-5194-4003-fed0-9fc9f4e6dc01"
      },
      "source": [
        "\n",
        "\n",
        "first_name=input(\"first_name=\")\n",
        "last_name=input(\"last_name=\")\n",
        "fullname=first_name +\" \"+ last_name\n",
        "\n",
        "fullname1=fullname[::-1]\n",
        "print(fullname1)\n",
        "\n",
        "\n"
      ],
      "execution_count": 1,
      "outputs": [
        {
          "output_type": "stream",
          "name": "stdout",
          "text": [
            "first_name=hadil\n",
            "last_name=belhadj\n",
            "jdahleb lidah\n"
          ]
        }
      ]
    },
    {
      "cell_type": "code",
      "metadata": {
        "id": "iBOvHRn2z0hu",
        "colab": {
          "base_uri": "https://localhost:8080/"
        },
        "outputId": "b637b9c0-2d30-48e9-ac5a-0f4890e27c23"
      },
      "source": [
        "x=int(input(\"Sample value of x is=\"))\n",
        "x=x+x*11+x*111\n",
        "print(x)\n"
      ],
      "execution_count": 2,
      "outputs": [
        {
          "output_type": "stream",
          "name": "stdout",
          "text": [
            "Sample value of x is=5\n",
            "615\n"
          ]
        }
      ]
    },
    {
      "cell_type": "code",
      "metadata": {
        "id": "ZhPgHbeg0vKe",
        "colab": {
          "base_uri": "https://localhost:8080/"
        },
        "outputId": "a1b552a9-5769-4b44-d847-ce1218500264"
      },
      "source": [
        "x=int(input(\"value of x is=\"))\n",
        "if x%2==0:\n",
        "  print(\"even\")\n",
        "else:\n",
        "    print(\"odd\")"
      ],
      "execution_count": 3,
      "outputs": [
        {
          "output_type": "stream",
          "name": "stdout",
          "text": [
            "value of x is=5\n",
            "odd\n"
          ]
        }
      ]
    },
    {
      "cell_type": "code",
      "metadata": {
        "id": "ExvWOULb5Lf0",
        "colab": {
          "base_uri": "https://localhost:8080/"
        },
        "outputId": "387f60c4-f361-49e2-8589-dadf7e6cd17c"
      },
      "source": [
        "for i in range(2000,3201,1):\n",
        "  if (i%7==0 and i%5!=0):\n",
        "    print(i , end=', ')\n"
      ],
      "execution_count": 13,
      "outputs": [
        {
          "output_type": "stream",
          "name": "stdout",
          "text": [
            "2002, 2009, 2016, 2023, 2037, 2044, 2051, 2058, 2072, 2079, 2086, 2093, 2107, 2114, 2121, 2128, 2142, 2149, 2156, 2163, 2177, 2184, 2191, 2198, 2212, 2219, 2226, 2233, 2247, 2254, 2261, 2268, 2282, 2289, 2296, 2303, 2317, 2324, 2331, 2338, 2352, 2359, 2366, 2373, 2387, 2394, 2401, 2408, 2422, 2429, 2436, 2443, 2457, 2464, 2471, 2478, 2492, 2499, 2506, 2513, 2527, 2534, 2541, 2548, 2562, 2569, 2576, 2583, 2597, 2604, 2611, 2618, 2632, 2639, 2646, 2653, 2667, 2674, 2681, 2688, 2702, 2709, 2716, 2723, 2737, 2744, 2751, 2758, 2772, 2779, 2786, 2793, 2807, 2814, 2821, 2828, 2842, 2849, 2856, 2863, 2877, 2884, 2891, 2898, 2912, 2919, 2926, 2933, 2947, 2954, 2961, 2968, 2982, 2989, 2996, 3003, 3017, 3024, 3031, 3038, 3052, 3059, 3066, 3073, 3087, 3094, 3101, 3108, 3122, 3129, 3136, 3143, 3157, 3164, 3171, 3178, 3192, 3199, "
          ]
        }
      ]
    },
    {
      "cell_type": "code",
      "metadata": {
        "id": "q0X7XiOv6wNh",
        "colab": {
          "base_uri": "https://localhost:8080/"
        },
        "outputId": "96b2d423-580c-4b58-c2f5-92fbc9a58ee4"
      },
      "source": [
        "x=int(input(\"number=\"))\n",
        "h=x\n",
        "n=\"\"\n",
        "for i in range(1,x):\n",
        "  x=x*i\n",
        "  \n",
        "  n+=str(i)+\"*\"\n",
        "  \n",
        "  \n",
        "print(x)\n",
        "ch=\"\"\n",
        "ch+=str(h)+\"!\"+\"=\"+n+str(h)+\"=\"+str(x)\n",
        "print(ch)\n",
        "\n",
        "\n",
        "\n",
        "\n"
      ],
      "execution_count": 5,
      "outputs": [
        {
          "output_type": "stream",
          "name": "stdout",
          "text": [
            "number=4\n",
            "24\n",
            "4!=1*2*3*4=24\n"
          ]
        }
      ]
    },
    {
      "cell_type": "code",
      "metadata": {
        "id": "rOomywl7hEpr",
        "colab": {
          "base_uri": "https://localhost:8080/"
        },
        "outputId": "a08a5d02-afde-43c3-cf49-8ed771212f8f"
      },
      "source": [
        "chaine=input()\n",
        "ch=\"\"\n",
        "l=len(chaine)\n",
        "for i in range(l):\n",
        "  if i%2==0:\n",
        "    ch=ch+chaine[i]\n",
        "print(ch)\n"
      ],
      "execution_count": 6,
      "outputs": [
        {
          "output_type": "stream",
          "name": "stdout",
          "text": [
            "hadil\n",
            "hdl\n"
          ]
        }
      ]
    },
    {
      "cell_type": "code",
      "metadata": {
        "id": "MkjLsjPAoZ51",
        "colab": {
          "base_uri": "https://localhost:8080/"
        },
        "outputId": "b912314e-9229-410c-844e-1ee6f914b001"
      },
      "source": [
        "x=int(input(\"the price is=\"))\n",
        "if x>=500:\n",
        "  x=(x*50)/100\n",
        "elif 200<=x<500:\n",
        "  x=(x*30)/100\n",
        "else:\n",
        "  x=(x*10)/100\n",
        "print(\"the value after discount =\" ,x)\n"
      ],
      "execution_count": 7,
      "outputs": [
        {
          "output_type": "stream",
          "name": "stdout",
          "text": [
            "the price is=400\n",
            "the value after discount = 120.0\n"
          ]
        }
      ]
    }
  ]
}