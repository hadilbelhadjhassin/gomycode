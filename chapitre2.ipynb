{
  "nbformat": 4,
  "nbformat_minor": 0,
  "metadata": {
    "colab": {
      "name": "chapitre2.ipynb",
      "provenance": [],
      "authorship_tag": "ABX9TyP7vqMv6cSiI4oO+FHFkykP",
      "include_colab_link": true
    },
    "kernelspec": {
      "name": "python3",
      "display_name": "Python 3"
    },
    "language_info": {
      "name": "python"
    }
  },
  "cells": [
    {
      "cell_type": "markdown",
      "metadata": {
        "id": "view-in-github",
        "colab_type": "text"
      },
      "source": [
        "<a href=\"https://colab.research.google.com/github/hadilbelhadjhassin/gomycode/blob/main/chapitre2.ipynb\" target=\"_parent\"><img src=\"https://colab.research.google.com/assets/colab-badge.svg\" alt=\"Open In Colab\"/></a>"
      ]
    },
    {
      "cell_type": "code",
      "metadata": {
        "id": "QgDmB8FZU7sB",
        "colab": {
          "base_uri": "https://localhost:8080/"
        },
        "outputId": "cea96ba6-5194-4003-fed0-9fc9f4e6dc01"
      },
      "source": [
        "\n",
        "\n",
        "first_name=input(\"first_name=\")\n",
        "last_name=input(\"last_name=\")\n",
        "fullname=first_name +\" \"+ last_name\n",
        "\n",
        "fullname1=fullname[::-1]\n",
        "print(fullname1)\n",
        "\n",
        "\n"
      ],
      "execution_count": 1,
      "outputs": [
        {
          "output_type": "stream",
          "name": "stdout",
          "text": [
            "first_name=hadil\n",
            "last_name=belhadj\n",
            "jdahleb lidah\n"
          ]
        }
      ]
    },
    {
      "cell_type": "code",
      "metadata": {
        "id": "iBOvHRn2z0hu",
        "colab": {
          "base_uri": "https://localhost:8080/"
        },
        "outputId": "b637b9c0-2d30-48e9-ac5a-0f4890e27c23"
      },
      "source": [
        "x=int(input(\"Sample value of x is=\"))\n",
        "x=x+x*11+x*111\n",
        "print(x)\n"
      ],
      "execution_count": 2,
      "outputs": [
        {
          "output_type": "stream",
          "name": "stdout",
          "text": [
            "Sample value of x is=5\n",
            "615\n"
          ]
        }
      ]
    },
    {
      "cell_type": "code",
      "metadata": {
        "id": "ZhPgHbeg0vKe",
        "colab": {
          "base_uri": "https://localhost:8080/"
        },
        "outputId": "a1b552a9-5769-4b44-d847-ce1218500264"
      },
      "source": [
        "x=int(input(\"value of x is=\"))\n",
        "if x%2==0:\n",
        "  print(\"even\")\n",
        "else:\n",
        "    print(\"odd\")"
      ],
      "execution_count": 3,
      "outputs": [
        {
          "output_type": "stream",
          "name": "stdout",
          "text": [
            "value of x is=5\n",
            "odd\n"
          ]
        }
      ]
    },
    {
      "cell_type": "code",
      "metadata": {
        "id": "ExvWOULb5Lf0",
        "colab": {
          "base_uri": "https://localhost:8080/"
        },
        "outputId": "e6488594-f96b-4cdc-8eb4-a938be535897"
      },
      "source": [
        "for i in range(2000,3201,1):\n",
        "  if (i%7==0 and i%5!=0):\n",
        "    print(i)\n"
      ],
      "execution_count": 4,
      "outputs": [
        {
          "output_type": "stream",
          "name": "stdout",
          "text": [
            "2002\n",
            "2009\n",
            "2016\n",
            "2023\n",
            "2037\n",
            "2044\n",
            "2051\n",
            "2058\n",
            "2072\n",
            "2079\n",
            "2086\n",
            "2093\n",
            "2107\n",
            "2114\n",
            "2121\n",
            "2128\n",
            "2142\n",
            "2149\n",
            "2156\n",
            "2163\n",
            "2177\n",
            "2184\n",
            "2191\n",
            "2198\n",
            "2212\n",
            "2219\n",
            "2226\n",
            "2233\n",
            "2247\n",
            "2254\n",
            "2261\n",
            "2268\n",
            "2282\n",
            "2289\n",
            "2296\n",
            "2303\n",
            "2317\n",
            "2324\n",
            "2331\n",
            "2338\n",
            "2352\n",
            "2359\n",
            "2366\n",
            "2373\n",
            "2387\n",
            "2394\n",
            "2401\n",
            "2408\n",
            "2422\n",
            "2429\n",
            "2436\n",
            "2443\n",
            "2457\n",
            "2464\n",
            "2471\n",
            "2478\n",
            "2492\n",
            "2499\n",
            "2506\n",
            "2513\n",
            "2527\n",
            "2534\n",
            "2541\n",
            "2548\n",
            "2562\n",
            "2569\n",
            "2576\n",
            "2583\n",
            "2597\n",
            "2604\n",
            "2611\n",
            "2618\n",
            "2632\n",
            "2639\n",
            "2646\n",
            "2653\n",
            "2667\n",
            "2674\n",
            "2681\n",
            "2688\n",
            "2702\n",
            "2709\n",
            "2716\n",
            "2723\n",
            "2737\n",
            "2744\n",
            "2751\n",
            "2758\n",
            "2772\n",
            "2779\n",
            "2786\n",
            "2793\n",
            "2807\n",
            "2814\n",
            "2821\n",
            "2828\n",
            "2842\n",
            "2849\n",
            "2856\n",
            "2863\n",
            "2877\n",
            "2884\n",
            "2891\n",
            "2898\n",
            "2912\n",
            "2919\n",
            "2926\n",
            "2933\n",
            "2947\n",
            "2954\n",
            "2961\n",
            "2968\n",
            "2982\n",
            "2989\n",
            "2996\n",
            "3003\n",
            "3017\n",
            "3024\n",
            "3031\n",
            "3038\n",
            "3052\n",
            "3059\n",
            "3066\n",
            "3073\n",
            "3087\n",
            "3094\n",
            "3101\n",
            "3108\n",
            "3122\n",
            "3129\n",
            "3136\n",
            "3143\n",
            "3157\n",
            "3164\n",
            "3171\n",
            "3178\n",
            "3192\n",
            "3199\n"
          ]
        }
      ]
    },
    {
      "cell_type": "code",
      "metadata": {
        "id": "q0X7XiOv6wNh",
        "colab": {
          "base_uri": "https://localhost:8080/"
        },
        "outputId": "96b2d423-580c-4b58-c2f5-92fbc9a58ee4"
      },
      "source": [
        "x=int(input(\"number=\"))\n",
        "h=x\n",
        "n=\"\"\n",
        "for i in range(1,x):\n",
        "  x=x*i\n",
        "  \n",
        "  n+=str(i)+\"*\"\n",
        "  \n",
        "  \n",
        "print(x)\n",
        "ch=\"\"\n",
        "ch+=str(h)+\"!\"+\"=\"+n+str(h)+\"=\"+str(x)\n",
        "print(ch)\n",
        "\n",
        "\n",
        "\n",
        "\n"
      ],
      "execution_count": 5,
      "outputs": [
        {
          "output_type": "stream",
          "name": "stdout",
          "text": [
            "number=4\n",
            "24\n",
            "4!=1*2*3*4=24\n"
          ]
        }
      ]
    },
    {
      "cell_type": "code",
      "metadata": {
        "id": "rOomywl7hEpr",
        "colab": {
          "base_uri": "https://localhost:8080/"
        },
        "outputId": "a08a5d02-afde-43c3-cf49-8ed771212f8f"
      },
      "source": [
        "chaine=input()\n",
        "ch=\"\"\n",
        "l=len(chaine)\n",
        "for i in range(l):\n",
        "  if i%2==0:\n",
        "    ch=ch+chaine[i]\n",
        "print(ch)\n"
      ],
      "execution_count": 6,
      "outputs": [
        {
          "output_type": "stream",
          "name": "stdout",
          "text": [
            "hadil\n",
            "hdl\n"
          ]
        }
      ]
    },
    {
      "cell_type": "code",
      "metadata": {
        "id": "MkjLsjPAoZ51",
        "colab": {
          "base_uri": "https://localhost:8080/"
        },
        "outputId": "b912314e-9229-410c-844e-1ee6f914b001"
      },
      "source": [
        "x=int(input(\"the price is=\"))\n",
        "if x>=500:\n",
        "  x=(x*50)/100\n",
        "elif 200<=x<500:\n",
        "  x=(x*30)/100\n",
        "else:\n",
        "  x=(x*10)/100\n",
        "print(\"the value after discount =\" ,x)\n"
      ],
      "execution_count": 7,
      "outputs": [
        {
          "output_type": "stream",
          "name": "stdout",
          "text": [
            "the price is=400\n",
            "the value after discount = 120.0\n"
          ]
        }
      ]
    }
  ]
}