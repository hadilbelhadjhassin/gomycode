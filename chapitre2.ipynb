{
  "nbformat": 4,
  "nbformat_minor": 0,
  "metadata": {
    "colab": {
      "name": "chapitre2.ipynb",
      "provenance": [],
      "authorship_tag": "ABX9TyP7vqMv6cSiI4oO+FHFkykP",
      "include_colab_link": true
    },
    "kernelspec": {
      "name": "python3",
      "display_name": "Python 3"
    },
    "language_info": {
      "name": "python"
    }
  },
  "cells": [
    {
      "cell_type": "markdown",
      "metadata": {
        "id": "view-in-github",
        "colab_type": "text"
      },
      "source": [
        "<a href=\"https://colab.research.google.com/github/hadilbelhadjhassin/gomycode/blob/main/chapitre2.ipynb\" target=\"_parent\"><img src=\"https://colab.research.google.com/assets/colab-badge.svg\" alt=\"Open In Colab\"/></a>"
      ]
    },
    {
      "cell_type": "code",
      "metadata": {
        "id": "QgDmB8FZU7sB"
      },
      "source": [
        "\n",
        "\n",
        "first_name=input(\"first_name=\")\n",
        "last_name=input(\"last_name=\")\n",
        "fullname=first_name +\" \"+ last_name\n",
        "\n",
        "fullname1=fullname[::-1]\n",
        "print(fullname1)\n",
        "\n",
        "\n"
      ],
      "execution_count": null,
      "outputs": []
    },
    {
      "cell_type": "code",
      "metadata": {
        "id": "iBOvHRn2z0hu"
      },
      "source": [
        "x=int(input(\"Sample value of x is=\"))\n",
        "x=x+x*11+x*111\n",
        "print(x)\n"
      ],
      "execution_count": null,
      "outputs": []
    },
    {
      "cell_type": "code",
      "metadata": {
        "id": "ZhPgHbeg0vKe"
      },
      "source": [
        "x=int(input(\"value of x is=\"))\n",
        "if x%2==0:\n",
        "  print(\"even\")\n",
        "else:\n",
        "    print(\"odd\")"
      ],
      "execution_count": null,
      "outputs": []
    },
    {
      "cell_type": "code",
      "metadata": {
        "id": "ExvWOULb5Lf0"
      },
      "source": [
        "for i in range(2000,3201,1):\n",
        "  if (i%7==0 and i%5!=0):\n",
        "    print(i)\n"
      ],
      "execution_count": null,
      "outputs": []
    },
    {
      "cell_type": "code",
      "metadata": {
        "id": "q0X7XiOv6wNh"
      },
      "source": [
        "x=int(input(\"number=\"))\n",
        "h=x\n",
        "n=\"\"\n",
        "for i in range(1,x):\n",
        "  x=x*i\n",
        "  \n",
        "  n+=str(i)+\"*\"\n",
        "  \n",
        "  \n",
        "print(x)\n",
        "ch=\"\"\n",
        "ch+=str(h)+\"!\"+\"=\"+n+str(h)+\"=\"+str(x)\n",
        "print(ch)\n",
        "\n",
        "\n",
        "\n",
        "\n"
      ],
      "execution_count": null,
      "outputs": []
    },
    {
      "cell_type": "code",
      "metadata": {
        "id": "rOomywl7hEpr"
      },
      "source": [
        "chaine=input()\n",
        "ch=\"\"\n",
        "l=len(chaine)\n",
        "for i in range(l):\n",
        "  if i%2==0:\n",
        "    ch=ch+chaine[i]\n",
        "print(ch)\n"
      ],
      "execution_count": null,
      "outputs": []
    },
    {
      "cell_type": "code",
      "metadata": {
        "id": "MkjLsjPAoZ51"
      },
      "source": [
        "x=int(input(\"the price is=\"))\n",
        "if x>=500:\n",
        "  x=(x*50)/100\n",
        "elif 200<=x<500:\n",
        "  x=(x*30)/100\n",
        "else:\n",
        "  x=(x*10)/100\n",
        "print(\"the value after discount =\" ,x)\n"
      ],
      "execution_count": null,
      "outputs": []
    }
  ]
}