{
  "nbformat": 4,
  "nbformat_minor": 0,
  "metadata": {
    "colab": {
      "name": "Handling files with python.ipynb",
      "provenance": [],
      "authorship_tag": "ABX9TyNuDdjwW3J2LgbMpGcC291+",
      "include_colab_link": true
    },
    "kernelspec": {
      "name": "python3",
      "display_name": "Python 3"
    },
    "language_info": {
      "name": "python"
    }
  },
  "cells": [
    {
      "cell_type": "markdown",
      "metadata": {
        "id": "view-in-github",
        "colab_type": "text"
      },
      "source": [
        "<a href=\"https://colab.research.google.com/github/hadilbelhadjhassin/gomycode/blob/main/Handling_files_with_python.ipynb\" target=\"_parent\"><img src=\"https://colab.research.google.com/assets/colab-badge.svg\" alt=\"Open In Colab\"/></a>"
      ]
    },
    {
      "cell_type": "code",
      "metadata": {
        "id": "kDbZg-Y2pKA4",
        "colab": {
          "base_uri": "https://localhost:8080/"
        },
        "outputId": "22f294bc-b552-4e20-de8e-b5feed0bf322"
      },
      "source": [
        "#read text file\n",
        "\n",
        "f=open(\"/content/python.txt\",'r')\n",
        "texte=f.read()\n",
        "print(texte)\n",
        "f.close()\n"
      ],
      "execution_count": 4,
      "outputs": [
        {
          "output_type": "stream",
          "name": "stdout",
          "text": [
            "What is Python language?                                                \n",
            "Python is a widely used high-level, general-purpose, interpreted, dynamic programming language.Its design philosophy emphasizes code readability, and its syntax allows programmers to express concepts in fewer lines of code than possible in \n",
            "languages such as C++ or Java. \n",
            "Python supports multiple programming paradigms, including object-oriented, imperative and functional programming or procedural styles. It features a dynamic type system and automatic memory management and has a large and comprehensive standard library.The best way we learn anything is by practice and exercise questions. We  have started this section for those (beginner to intermediate) who are familiar with Python.\n"
          ]
        }
      ]
    },
    {
      "cell_type": "code",
      "metadata": {
        "id": "gOjL1m4cJCvI",
        "colab": {
          "base_uri": "https://localhost:8080/"
        },
        "outputId": "5923ecf5-708d-4b66-aa01-bda839b681df"
      },
      "source": [
        "#Write a Python program to read first n lines of a file.\n",
        "\n",
        "f1=open(\"/content/python.txt\",'r')\n",
        "v=f1.readlines()\n",
        "l=list(v)\n",
        "print(l[0:3])\n",
        "f1.close()\n"
      ],
      "execution_count": 5,
      "outputs": [
        {
          "output_type": "stream",
          "name": "stdout",
          "text": [
            "['What is Python language?                                                \\n', 'Python is a widely used high-level, general-purpose, interpreted, dynamic programming language.Its design philosophy emphasizes code readability, and its syntax allows programmers to express concepts in fewer lines of code than possible in \\n', 'languages such as C++ or Java. \\n']\n"
          ]
        }
      ]
    },
    {
      "cell_type": "code",
      "metadata": {
        "id": "20INH2SgJdjA",
        "colab": {
          "base_uri": "https://localhost:8080/"
        },
        "outputId": "4bacf9be-9cf3-4780-e352-7addcab8830f"
      },
      "source": [
        "#Write a Python program to read last n lines of a file\n",
        "\n",
        "f2=open(\"/content/python.txt\",'r')\n",
        "lines = f2.readlines()\n",
        "last_lines = lines[-2:]\n",
        "print(last_lines)\n",
        "f2.close()\n"
      ],
      "execution_count": 6,
      "outputs": [
        {
          "output_type": "stream",
          "name": "stdout",
          "text": [
            "['languages such as C++ or Java. \\n', 'Python supports multiple programming paradigms, including object-oriented, imperative and functional programming or procedural styles. It features a dynamic type system and automatic memory management and has a large and comprehensive standard library.The best way we learn anything is by practice and exercise questions. We  have started this section for those (beginner to intermediate) who are familiar with Python.']\n"
          ]
        }
      ]
    },
    {
      "cell_type": "code",
      "metadata": {
        "colab": {
          "base_uri": "https://localhost:8080/"
        },
        "id": "XE39Nhr-9jBc",
        "outputId": "eff11d68-7465-436e-bd6a-6a4b320fd307"
      },
      "source": [
        " \n",
        "f3=open(\"/content/python.txt\",'r')\n",
        "data = f3.read()\n",
        "data.replace(\",\", \" \")\n",
        "print(len(data.split(\" \")))\n",
        "f3.close()\n"
      ],
      "execution_count": 3,
      "outputs": [
        {
          "output_type": "stream",
          "name": "stdout",
          "text": [
            "148\n"
          ]
        }
      ]
    }
  ]
}